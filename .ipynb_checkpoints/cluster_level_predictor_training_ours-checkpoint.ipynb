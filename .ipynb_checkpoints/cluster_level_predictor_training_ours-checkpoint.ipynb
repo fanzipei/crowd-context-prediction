{
 "cells": [
  {
   "cell_type": "code",
   "execution_count": 2,
   "metadata": {},
   "outputs": [],
   "source": [
    "import torch\n",
    "import torch.nn as nn\n",
    "\n",
    "from model import CrowdPredictorGRU\n",
    "\n",
    "import numpy as np\n",
    "\n",
    "import pickle as pk\n",
    "\n",
    "import os\n",
    "from multiprocessing import pool"
   ]
  },
  {
   "cell_type": "code",
   "execution_count": 1,
   "metadata": {},
   "outputs": [],
   "source": [
    "from config import didi_hidx_traj_path, num_clusters, num_"
   ]
  },
  {
   "cell_type": "code",
   "execution_count": 2,
   "metadata": {},
   "outputs": [],
   "source": [
    "num_timeslots = 288\n",
    "time_embedding = 128\n",
    "cluster_embedding = 256\n",
    "hidden_dim = 256\n",
    "context_dim = 64\n",
    "\n",
    "dT = 12"
   ]
  },
  {
   "cell_type": "code",
   "execution_count": 3,
   "metadata": {},
   "outputs": [],
   "source": [
    "multiprocess = True"
   ]
  },
  {
   "cell_type": "code",
   "execution_count": 9,
   "metadata": {},
   "outputs": [
    {
     "data": {
      "text/plain": [
       "<All keys matched successfully>"
      ]
     },
     "execution_count": 9,
     "metadata": {},
     "output_type": "execute_result"
    }
   ],
   "source": [
    "crowd_predictor = CrowdPredictorGRU(num_timeslots, time_embedding, num_clusters, cluster_embedding, hidden_dim, context_dim, n_layers=2).cuda(1)"
   ]
  },
  {
   "cell_type": "code",
   "execution_count": 10,
   "metadata": {},
   "outputs": [],
   "source": [
    "def load_cluster_data(filepath):\n",
    "    print(filepath)\n",
    "    with open(filepath, 'rb') as f:\n",
    "        return torch.stack(list(pk.load(f).values()))"
   ]
  },
  {
   "cell_type": "code",
   "execution_count": 11,
   "metadata": {},
   "outputs": [
    {
     "name": "stdout",
     "output_type": "stream",
     "text": [
      "/data/fan/data/sadCrowdPrediction/cluster/cluster_20120601.pk\n",
      "/data/fan/data/sadCrowdPrediction/cluster/cluster_20120611.pk\n",
      "/data/fan/data/sadCrowdPrediction/cluster/cluster_20120613.pk\n",
      "/data/fan/data/sadCrowdPrediction/cluster/cluster_20120603.pk\n",
      "/data/fan/data/sadCrowdPrediction/cluster/cluster_20120607.pk\n",
      "/data/fan/data/sadCrowdPrediction/cluster/cluster_20120609.pk\n",
      "/data/fan/data/sadCrowdPrediction/cluster/cluster_20120615.pk\n",
      "/data/fan/data/sadCrowdPrediction/cluster/cluster_20120605.pk\n",
      "/data/fan/data/sadCrowdPrediction/cluster/cluster_20120614.pk\n",
      "/data/fan/data/sadCrowdPrediction/cluster/cluster_20120604.pk\n",
      "/data/fan/data/sadCrowdPrediction/cluster/cluster_20120610.pk\n",
      "/data/fan/data/sadCrowdPrediction/cluster/cluster_20120606.pk\n",
      "/data/fan/data/sadCrowdPrediction/cluster/cluster_20120612.pk\n",
      "/data/fan/data/sadCrowdPrediction/cluster/cluster_20120608.pk\n",
      "/data/fan/data/sadCrowdPrediction/cluster/cluster_20120616.pk\n",
      "/data/fan/data/sadCrowdPrediction/cluster/cluster_20120602.pk\n",
      "/data/fan/data/sadCrowdPrediction/cluster/cluster_20120617.pk\n",
      "/data/fan/data/sadCrowdPrediction/cluster/cluster_20120619.pk\n",
      "/data/fan/data/sadCrowdPrediction/cluster/cluster_20120621.pk\n",
      "/data/fan/data/sadCrowdPrediction/cluster/cluster_20120623.pk\n",
      "/data/fan/data/sadCrowdPrediction/cluster/cluster_20120625.pk\n",
      "/data/fan/data/sadCrowdPrediction/cluster/cluster_20120627.pk\n",
      "/data/fan/data/sadCrowdPrediction/cluster/cluster_20120629.pk\n",
      "/data/fan/data/sadCrowdPrediction/cluster/cluster_20120701.pk\n",
      "/data/fan/data/sadCrowdPrediction/cluster/cluster_20120618.pk\n",
      "/data/fan/data/sadCrowdPrediction/cluster/cluster_20120622.pk\n",
      "/data/fan/data/sadCrowdPrediction/cluster/cluster_20120620.pk\n",
      "/data/fan/data/sadCrowdPrediction/cluster/cluster_20120624.pk\n",
      "/data/fan/data/sadCrowdPrediction/cluster/cluster_20120628.pk\n",
      "/data/fan/data/sadCrowdPrediction/cluster/cluster_20120630.pk\n",
      "/data/fan/data/sadCrowdPrediction/cluster/cluster_20120626.pk\n",
      "/data/fan/data/sadCrowdPrediction/cluster/cluster_20120703.pk\n",
      "/data/fan/data/sadCrowdPrediction/cluster/cluster_20120705.pk\n",
      "/data/fan/data/sadCrowdPrediction/cluster/cluster_20120702.pk\n",
      "/data/fan/data/sadCrowdPrediction/cluster/cluster_20120707.pk\n",
      "/data/fan/data/sadCrowdPrediction/cluster/cluster_20120709.pk\n",
      "/data/fan/data/sadCrowdPrediction/cluster/cluster_20120711.pk\n",
      "/data/fan/data/sadCrowdPrediction/cluster/cluster_20120704.pk\n",
      "/data/fan/data/sadCrowdPrediction/cluster/cluster_20120713.pk\n",
      "/data/fan/data/sadCrowdPrediction/cluster/cluster_20120715.pk\n",
      "/data/fan/data/sadCrowdPrediction/cluster/cluster_20120706.pk\n",
      "/data/fan/data/sadCrowdPrediction/cluster/cluster_20120717.pk\n",
      "/data/fan/data/sadCrowdPrediction/cluster/cluster_20120708.pk\n",
      "/data/fan/data/sadCrowdPrediction/cluster/cluster_20120710.pk\n",
      "/data/fan/data/sadCrowdPrediction/cluster/cluster_20120712.pk\n",
      "/data/fan/data/sadCrowdPrediction/cluster/cluster_20120719.pk\n",
      "/data/fan/data/sadCrowdPrediction/cluster/cluster_20120716.pk\n",
      "/data/fan/data/sadCrowdPrediction/cluster/cluster_20120714.pk\n",
      "/data/fan/data/sadCrowdPrediction/cluster/cluster_20120721.pk\n",
      "/data/fan/data/sadCrowdPrediction/cluster/cluster_20120718.pk\n",
      "/data/fan/data/sadCrowdPrediction/cluster/cluster_20120720.pk\n",
      "/data/fan/data/sadCrowdPrediction/cluster/cluster_20120723.pk\n",
      "/data/fan/data/sadCrowdPrediction/cluster/cluster_20120726.pk\n",
      "/data/fan/data/sadCrowdPrediction/cluster/cluster_20120728.pk\n",
      "/data/fan/data/sadCrowdPrediction/cluster/cluster_20120731.pk\n",
      "/data/fan/data/sadCrowdPrediction/cluster/cluster_20120722.pk\n",
      "/data/fan/data/sadCrowdPrediction/cluster/cluster_20120729.pk\n",
      "/data/fan/data/sadCrowdPrediction/cluster/cluster_20120724.pk\n",
      "/data/fan/data/sadCrowdPrediction/cluster/cluster_20120727.pk\n"
     ]
    }
   ],
   "source": [
    "path_list = []\n",
    "\n",
    "for m in range(6, 8):\n",
    "    for d in range(1, 32):\n",
    "        filename = '/data/fan/data/sadCrowdPrediction/cluster/cluster_2012{:02d}{:02d}.pk'.format(m, d)\n",
    "        if os.path.isfile(filename):\n",
    "            path_list.append(filename)\n",
    "\n",
    "if multiprocess:\n",
    "    proc_pool = pool.Pool(8)\n",
    "    data = proc_pool.map(load_cluster_data, path_list)\n",
    "\n",
    "    proc_pool.close()\n",
    "else:\n",
    "    data = [load_cluster_data(filepath) for filepath in path_list]"
   ]
  },
  {
   "cell_type": "code",
   "execution_count": 21,
   "metadata": {},
   "outputs": [],
   "source": [
    "optimizer = torch.optim.Adam(crowd_predictor.parameters(), lr=1e-4)\n",
    "optimizer_scheduler = torch.optim.lr_scheduler.ExponentialLR(optimizer, gamma=0.5)"
   ]
  },
  {
   "cell_type": "code",
   "execution_count": 22,
   "metadata": {},
   "outputs": [],
   "source": [
    "import random\n",
    "from itertools import product"
   ]
  },
  {
   "cell_type": "code",
   "execution_count": 26,
   "metadata": {},
   "outputs": [
    {
     "name": "stdout",
     "output_type": "stream",
     "text": [
      "Epoch 001, 100.0%, avg_loss = 1.2912\n",
      "Epoch 002, 66.4%, avg_loss = 1.2916\r"
     ]
    },
    {
     "ename": "KeyboardInterrupt",
     "evalue": "",
     "output_type": "error",
     "traceback": [
      "\u001b[0;31m---------------------------------------------------------------------------\u001b[0m",
      "\u001b[0;31mKeyboardInterrupt\u001b[0m                         Traceback (most recent call last)",
      "\u001b[0;32m<ipython-input-26-9bf32804656b>\u001b[0m in \u001b[0;36m<module>\u001b[0;34m\u001b[0m\n\u001b[1;32m     20\u001b[0m         \u001b[0mloss\u001b[0m \u001b[0;34m=\u001b[0m \u001b[0mnn\u001b[0m\u001b[0;34m.\u001b[0m\u001b[0mfunctional\u001b[0m\u001b[0;34m.\u001b[0m\u001b[0mcross_entropy\u001b[0m\u001b[0;34m(\u001b[0m\u001b[0mcrowd_pred\u001b[0m\u001b[0;34m,\u001b[0m \u001b[0myc\u001b[0m\u001b[0;34m)\u001b[0m\u001b[0;34m\u001b[0m\u001b[0;34m\u001b[0m\u001b[0m\n\u001b[1;32m     21\u001b[0m \u001b[0;34m\u001b[0m\u001b[0m\n\u001b[0;32m---> 22\u001b[0;31m         \u001b[0mloss\u001b[0m\u001b[0;34m.\u001b[0m\u001b[0mbackward\u001b[0m\u001b[0;34m(\u001b[0m\u001b[0;34m)\u001b[0m\u001b[0;34m\u001b[0m\u001b[0;34m\u001b[0m\u001b[0m\n\u001b[0m\u001b[1;32m     23\u001b[0m \u001b[0;34m\u001b[0m\u001b[0m\n\u001b[1;32m     24\u001b[0m         \u001b[0;32mif\u001b[0m \u001b[0mi\u001b[0m \u001b[0;34m%\u001b[0m \u001b[0;36m5\u001b[0m \u001b[0;34m==\u001b[0m \u001b[0;36m0\u001b[0m\u001b[0;34m:\u001b[0m\u001b[0;34m\u001b[0m\u001b[0;34m\u001b[0m\u001b[0m\n",
      "\u001b[0;32m~/anaconda3/envs/py3/lib/python3.7/site-packages/torch/tensor.py\u001b[0m in \u001b[0;36mbackward\u001b[0;34m(self, gradient, retain_graph, create_graph)\u001b[0m\n\u001b[1;32m    148\u001b[0m                 \u001b[0mproducts\u001b[0m\u001b[0;34m.\u001b[0m \u001b[0mDefaults\u001b[0m \u001b[0mto\u001b[0m\u001b[0;31m \u001b[0m\u001b[0;31m`\u001b[0m\u001b[0;31m`\u001b[0m\u001b[0;32mFalse\u001b[0m\u001b[0;31m`\u001b[0m\u001b[0;31m`\u001b[0m\u001b[0;34m.\u001b[0m\u001b[0;34m\u001b[0m\u001b[0;34m\u001b[0m\u001b[0m\n\u001b[1;32m    149\u001b[0m         \"\"\"\n\u001b[0;32m--> 150\u001b[0;31m         \u001b[0mtorch\u001b[0m\u001b[0;34m.\u001b[0m\u001b[0mautograd\u001b[0m\u001b[0;34m.\u001b[0m\u001b[0mbackward\u001b[0m\u001b[0;34m(\u001b[0m\u001b[0mself\u001b[0m\u001b[0;34m,\u001b[0m \u001b[0mgradient\u001b[0m\u001b[0;34m,\u001b[0m \u001b[0mretain_graph\u001b[0m\u001b[0;34m,\u001b[0m \u001b[0mcreate_graph\u001b[0m\u001b[0;34m)\u001b[0m\u001b[0;34m\u001b[0m\u001b[0;34m\u001b[0m\u001b[0m\n\u001b[0m\u001b[1;32m    151\u001b[0m \u001b[0;34m\u001b[0m\u001b[0m\n\u001b[1;32m    152\u001b[0m     \u001b[0;32mdef\u001b[0m \u001b[0mregister_hook\u001b[0m\u001b[0;34m(\u001b[0m\u001b[0mself\u001b[0m\u001b[0;34m,\u001b[0m \u001b[0mhook\u001b[0m\u001b[0;34m)\u001b[0m\u001b[0;34m:\u001b[0m\u001b[0;34m\u001b[0m\u001b[0;34m\u001b[0m\u001b[0m\n",
      "\u001b[0;32m~/anaconda3/envs/py3/lib/python3.7/site-packages/torch/autograd/__init__.py\u001b[0m in \u001b[0;36mbackward\u001b[0;34m(tensors, grad_tensors, retain_graph, create_graph, grad_variables)\u001b[0m\n\u001b[1;32m     97\u001b[0m     Variable._execution_engine.run_backward(\n\u001b[1;32m     98\u001b[0m         \u001b[0mtensors\u001b[0m\u001b[0;34m,\u001b[0m \u001b[0mgrad_tensors\u001b[0m\u001b[0;34m,\u001b[0m \u001b[0mretain_graph\u001b[0m\u001b[0;34m,\u001b[0m \u001b[0mcreate_graph\u001b[0m\u001b[0;34m,\u001b[0m\u001b[0;34m\u001b[0m\u001b[0;34m\u001b[0m\u001b[0m\n\u001b[0;32m---> 99\u001b[0;31m         allow_unreachable=True)  # allow_unreachable flag\n\u001b[0m\u001b[1;32m    100\u001b[0m \u001b[0;34m\u001b[0m\u001b[0m\n\u001b[1;32m    101\u001b[0m \u001b[0;34m\u001b[0m\u001b[0m\n",
      "\u001b[0;31mKeyboardInterrupt\u001b[0m: "
     ]
    }
   ],
   "source": [
    "batch_size = 8192\n",
    "max_iter = 100000\n",
    "\n",
    "day_time_list = list(product(range(len(data)), range(num_timeslots - 2 * dT + 1)))\n",
    "\n",
    "for epoch in range(1, 5):\n",
    "    avg_loss = 0.0\n",
    "    random.shuffle(day_time_list)\n",
    "\n",
    "    i = 0\n",
    "    for d, t in day_time_list:\n",
    "\n",
    "        i += 1\n",
    "        batch_indices = torch.LongTensor(np.random.choice(data[d].shape[0], batch_size, replace=False))        \n",
    "        xc = data[d][batch_indices][:, t: t + dT].cuda(1)\n",
    "        xt = torch.zeros_like(xc) + t\n",
    "        yc = data[d][batch_indices, t + 2 * dT - 1].cuda(1)\n",
    "        \n",
    "        crowd_pred = crowd_predictor(xc, xt)\n",
    "        loss = nn.functional.cross_entropy(crowd_pred, yc)\n",
    "        \n",
    "        loss.backward()\n",
    "        \n",
    "        if i % 5 == 0:\n",
    "            optimizer.step()\n",
    "            optimizer.zero_grad()\n",
    "\n",
    "        avg_loss += loss.item()\n",
    "        \n",
    "        print('Epoch {:03d}, {:.1f}%, avg_loss = {:.4f}'.format(epoch, i / len(day_time_list) * 100, avg_loss / i), end='\\r')\n",
    "        \n",
    "    print()\n",
    "    optimizer_scheduler.step()"
   ]
  },
  {
   "cell_type": "code",
   "execution_count": 27,
   "metadata": {},
   "outputs": [
    {
     "name": "stderr",
     "output_type": "stream",
     "text": [
      "/home/fan/anaconda3/envs/py3/lib/python3.7/site-packages/torch/serialization.py:292: UserWarning: Couldn't retrieve source code for container of type CrowdPredictorGRU. It won't be checked for correctness upon loading.\n",
      "  \"type \" + obj.__name__ + \". It won't be checked \"\n",
      "/home/fan/anaconda3/envs/py3/lib/python3.7/site-packages/torch/serialization.py:292: UserWarning: Couldn't retrieve source code for container of type Embedding. It won't be checked for correctness upon loading.\n",
      "  \"type \" + obj.__name__ + \". It won't be checked \"\n",
      "/home/fan/anaconda3/envs/py3/lib/python3.7/site-packages/torch/serialization.py:292: UserWarning: Couldn't retrieve source code for container of type GRU. It won't be checked for correctness upon loading.\n",
      "  \"type \" + obj.__name__ + \". It won't be checked \"\n",
      "/home/fan/anaconda3/envs/py3/lib/python3.7/site-packages/torch/serialization.py:292: UserWarning: Couldn't retrieve source code for container of type Sequential. It won't be checked for correctness upon loading.\n",
      "  \"type \" + obj.__name__ + \". It won't be checked \"\n",
      "/home/fan/anaconda3/envs/py3/lib/python3.7/site-packages/torch/serialization.py:292: UserWarning: Couldn't retrieve source code for container of type Linear. It won't be checked for correctness upon loading.\n",
      "  \"type \" + obj.__name__ + \". It won't be checked \"\n",
      "/home/fan/anaconda3/envs/py3/lib/python3.7/site-packages/torch/serialization.py:292: UserWarning: Couldn't retrieve source code for container of type Tanh. It won't be checked for correctness upon loading.\n",
      "  \"type \" + obj.__name__ + \". It won't be checked \"\n"
     ]
    }
   ],
   "source": [
    "torch.save(crowd_predictor.cpu(), './trained_model/crowd_pred_gru_sametime_h256_l2.model')"
   ]
  },
  {
   "cell_type": "code",
   "execution_count": null,
   "metadata": {},
   "outputs": [],
   "source": []
  }
 ],
 "metadata": {
  "kernelspec": {
   "display_name": "Py3 (Conda)",
   "language": "python",
   "name": "py3"
  },
  "language_info": {
   "codemirror_mode": {
    "name": "ipython",
    "version": 3
   },
   "file_extension": ".py",
   "mimetype": "text/x-python",
   "name": "python",
   "nbconvert_exporter": "python",
   "pygments_lexer": "ipython3",
   "version": "3.7.4"
  }
 },
 "nbformat": 4,
 "nbformat_minor": 2
}
