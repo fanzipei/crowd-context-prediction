{
 "cells": [
  {
   "cell_type": "code",
   "execution_count": 1,
   "metadata": {},
   "outputs": [],
   "source": [
    "import torch\n",
    "import torch.nn as nn\n",
    "\n",
    "import os\n",
    "import pickle as pk\n",
    "import numpy as np\n",
    "\n",
    "from model import GRUPredictor\n",
    "\n",
    "from multiprocessing import pool"
   ]
  },
  {
   "cell_type": "code",
   "execution_count": 2,
   "metadata": {},
   "outputs": [],
   "source": [
    "num_clusters = 3600\n",
    "num_timeslots = 288\n",
    "time_embedding = 128\n",
    "cluster_embedding = 256\n",
    "hidden_dim = 256\n",
    "context_dim = 64"
   ]
  },
  {
   "cell_type": "code",
   "execution_count": 3,
   "metadata": {},
   "outputs": [],
   "source": [
    "multiprocess = True"
   ]
  },
  {
   "cell_type": "code",
   "execution_count": 4,
   "metadata": {},
   "outputs": [],
   "source": [
    "dT = 12"
   ]
  },
  {
   "cell_type": "code",
   "execution_count": 5,
   "metadata": {
    "scrolled": true
   },
   "outputs": [],
   "source": [
    "def load_cluster_data(filepath):\n",
    "    print(filepath)\n",
    "    with open(filepath, 'rb') as f:\n",
    "        return torch.stack(list(pk.load(f).values()))"
   ]
  },
  {
   "cell_type": "code",
   "execution_count": 7,
   "metadata": {},
   "outputs": [
    {
     "name": "stdout",
     "output_type": "stream",
     "text": [
      "/data/fan/data/sadCrowdPrediction/cluster/cluster_20120602.pk\n",
      "Epoch 001, 100.0%, avg_loss = 1.2664\n",
      "Epoch 002, 100.0%, avg_loss = 1.2602\n",
      "/data/fan/data/sadCrowdPrediction/cluster/cluster_20120603.pk\n",
      "Epoch 001, 100.0%, avg_loss = 1.1248\n",
      "Epoch 002, 100.0%, avg_loss = 1.1299\n",
      "/data/fan/data/sadCrowdPrediction/cluster/cluster_20120604.pk\n",
      "Epoch 001, 100.0%, avg_loss = 1.3006\n",
      "Epoch 002, 100.0%, avg_loss = 1.2999\n",
      "/data/fan/data/sadCrowdPrediction/cluster/cluster_20120605.pk\n",
      "Epoch 001, 100.0%, avg_loss = 1.3216\n",
      "Epoch 002, 100.0%, avg_loss = 1.3177\n",
      "/data/fan/data/sadCrowdPrediction/cluster/cluster_20120606.pk\n",
      "Epoch 001, 100.0%, avg_loss = 1.3064\n",
      "Epoch 002, 100.0%, avg_loss = 1.3076\n",
      "/data/fan/data/sadCrowdPrediction/cluster/cluster_20120607.pk\n",
      "Epoch 001, 100.0%, avg_loss = 1.3328\n",
      "Epoch 002, 100.0%, avg_loss = 1.3314\n",
      "/data/fan/data/sadCrowdPrediction/cluster/cluster_20120608.pk\n",
      "Epoch 001, 100.0%, avg_loss = 1.3555\n",
      "Epoch 002, 100.0%, avg_loss = 1.3592\n",
      "/data/fan/data/sadCrowdPrediction/cluster/cluster_20120609.pk\n",
      "Epoch 001, 100.0%, avg_loss = 1.2314\n",
      "Epoch 002, 100.0%, avg_loss = 1.2316\n",
      "/data/fan/data/sadCrowdPrediction/cluster/cluster_20120610.pk\n",
      "Epoch 001, 100.0%, avg_loss = 1.1500\n",
      "Epoch 002, 100.0%, avg_loss = 1.1504\n",
      "/data/fan/data/sadCrowdPrediction/cluster/cluster_20120611.pk\n",
      "Epoch 001, 100.0%, avg_loss = 1.3051\n",
      "Epoch 002, 100.0%, avg_loss = 1.3120\n",
      "/data/fan/data/sadCrowdPrediction/cluster/cluster_20120612.pk\n",
      "Epoch 001, 100.0%, avg_loss = 1.3087\n",
      "Epoch 002, 100.0%, avg_loss = 1.3061\n",
      "/data/fan/data/sadCrowdPrediction/cluster/cluster_20120613.pk\n",
      "Epoch 001, 100.0%, avg_loss = 1.3279\n",
      "Epoch 002, 100.0%, avg_loss = 1.3273\n",
      "/data/fan/data/sadCrowdPrediction/cluster/cluster_20120614.pk\n",
      "Epoch 001, 100.0%, avg_loss = 1.3357\n",
      "Epoch 002, 100.0%, avg_loss = 1.3378\n",
      "/data/fan/data/sadCrowdPrediction/cluster/cluster_20120615.pk\n",
      "Epoch 001, 100.0%, avg_loss = 1.3717\n",
      "Epoch 002, 100.0%, avg_loss = 1.3732\n",
      "/data/fan/data/sadCrowdPrediction/cluster/cluster_20120616.pk\n",
      "Epoch 001, 100.0%, avg_loss = 1.2550\n",
      "Epoch 002, 100.0%, avg_loss = 1.2492\n",
      "/data/fan/data/sadCrowdPrediction/cluster/cluster_20120617.pk\n",
      "Epoch 001, 100.0%, avg_loss = 1.1528\n",
      "Epoch 002, 100.0%, avg_loss = 1.1508\n",
      "/data/fan/data/sadCrowdPrediction/cluster/cluster_20120618.pk\n",
      "Epoch 001, 100.0%, avg_loss = 1.3179\n",
      "Epoch 002, 100.0%, avg_loss = 1.3139\n",
      "/data/fan/data/sadCrowdPrediction/cluster/cluster_20120619.pk\n",
      "Epoch 001, 100.0%, avg_loss = 1.3107\n",
      "Epoch 002, 100.0%, avg_loss = 1.3101\n",
      "/data/fan/data/sadCrowdPrediction/cluster/cluster_20120620.pk\n",
      "Epoch 001, 56.1%, avg_loss = 1.3191\r"
     ]
    },
    {
     "ename": "KeyboardInterrupt",
     "evalue": "",
     "output_type": "error",
     "traceback": [
      "\u001b[0;31m---------------------------------------------------------------------------\u001b[0m",
      "\u001b[0;31mKeyboardInterrupt\u001b[0m                         Traceback (most recent call last)",
      "\u001b[0;32m<ipython-input-7-4373f401c6ba>\u001b[0m in \u001b[0;36m<module>\u001b[0;34m\u001b[0m\n\u001b[1;32m     25\u001b[0m \u001b[0;34m\u001b[0m\u001b[0m\n\u001b[1;32m     26\u001b[0m             \u001b[0mloss\u001b[0m \u001b[0;34m=\u001b[0m \u001b[0mpredictor\u001b[0m\u001b[0;34m(\u001b[0m\u001b[0mxc\u001b[0m\u001b[0;34m,\u001b[0m \u001b[0mxt\u001b[0m\u001b[0;34m,\u001b[0m \u001b[0myc\u001b[0m\u001b[0;34m)\u001b[0m\u001b[0;34m\u001b[0m\u001b[0;34m\u001b[0m\u001b[0m\n\u001b[0;32m---> 27\u001b[0;31m             \u001b[0mloss\u001b[0m\u001b[0;34m.\u001b[0m\u001b[0mbackward\u001b[0m\u001b[0;34m(\u001b[0m\u001b[0;34m)\u001b[0m\u001b[0;34m\u001b[0m\u001b[0;34m\u001b[0m\u001b[0m\n\u001b[0m\u001b[1;32m     28\u001b[0m \u001b[0;34m\u001b[0m\u001b[0m\n\u001b[1;32m     29\u001b[0m             \u001b[0moptimizer\u001b[0m\u001b[0;34m.\u001b[0m\u001b[0mstep\u001b[0m\u001b[0;34m(\u001b[0m\u001b[0;34m)\u001b[0m\u001b[0;34m\u001b[0m\u001b[0;34m\u001b[0m\u001b[0m\n",
      "\u001b[0;32m~/anaconda3/envs/py3/lib/python3.7/site-packages/torch/tensor.py\u001b[0m in \u001b[0;36mbackward\u001b[0;34m(self, gradient, retain_graph, create_graph)\u001b[0m\n\u001b[1;32m    148\u001b[0m                 \u001b[0mproducts\u001b[0m\u001b[0;34m.\u001b[0m \u001b[0mDefaults\u001b[0m \u001b[0mto\u001b[0m\u001b[0;31m \u001b[0m\u001b[0;31m`\u001b[0m\u001b[0;31m`\u001b[0m\u001b[0;32mFalse\u001b[0m\u001b[0;31m`\u001b[0m\u001b[0;31m`\u001b[0m\u001b[0;34m.\u001b[0m\u001b[0;34m\u001b[0m\u001b[0;34m\u001b[0m\u001b[0m\n\u001b[1;32m    149\u001b[0m         \"\"\"\n\u001b[0;32m--> 150\u001b[0;31m         \u001b[0mtorch\u001b[0m\u001b[0;34m.\u001b[0m\u001b[0mautograd\u001b[0m\u001b[0;34m.\u001b[0m\u001b[0mbackward\u001b[0m\u001b[0;34m(\u001b[0m\u001b[0mself\u001b[0m\u001b[0;34m,\u001b[0m \u001b[0mgradient\u001b[0m\u001b[0;34m,\u001b[0m \u001b[0mretain_graph\u001b[0m\u001b[0;34m,\u001b[0m \u001b[0mcreate_graph\u001b[0m\u001b[0;34m)\u001b[0m\u001b[0;34m\u001b[0m\u001b[0;34m\u001b[0m\u001b[0m\n\u001b[0m\u001b[1;32m    151\u001b[0m \u001b[0;34m\u001b[0m\u001b[0m\n\u001b[1;32m    152\u001b[0m     \u001b[0;32mdef\u001b[0m \u001b[0mregister_hook\u001b[0m\u001b[0;34m(\u001b[0m\u001b[0mself\u001b[0m\u001b[0;34m,\u001b[0m \u001b[0mhook\u001b[0m\u001b[0;34m)\u001b[0m\u001b[0;34m:\u001b[0m\u001b[0;34m\u001b[0m\u001b[0;34m\u001b[0m\u001b[0m\n",
      "\u001b[0;32m~/anaconda3/envs/py3/lib/python3.7/site-packages/torch/autograd/__init__.py\u001b[0m in \u001b[0;36mbackward\u001b[0;34m(tensors, grad_tensors, retain_graph, create_graph, grad_variables)\u001b[0m\n\u001b[1;32m     97\u001b[0m     Variable._execution_engine.run_backward(\n\u001b[1;32m     98\u001b[0m         \u001b[0mtensors\u001b[0m\u001b[0;34m,\u001b[0m \u001b[0mgrad_tensors\u001b[0m\u001b[0;34m,\u001b[0m \u001b[0mretain_graph\u001b[0m\u001b[0;34m,\u001b[0m \u001b[0mcreate_graph\u001b[0m\u001b[0;34m,\u001b[0m\u001b[0;34m\u001b[0m\u001b[0;34m\u001b[0m\u001b[0m\n\u001b[0;32m---> 99\u001b[0;31m         allow_unreachable=True)  # allow_unreachable flag\n\u001b[0m\u001b[1;32m    100\u001b[0m \u001b[0;34m\u001b[0m\u001b[0m\n\u001b[1;32m    101\u001b[0m \u001b[0;34m\u001b[0m\u001b[0m\n",
      "\u001b[0;31mKeyboardInterrupt\u001b[0m: "
     ]
    }
   ],
   "source": [
    "batch_size = 1024\n",
    "max_iter = 40000\n",
    "\n",
    "for d in range(2, 31):\n",
    "    filename = '/data/fan/data/sadCrowdPrediction/cluster/cluster_201206{:02d}.pk'.format(d)\n",
    "    data = load_cluster_data(filename)\n",
    "    \n",
    "    predictor = torch.load('./trained_model/component_predictors/component_predictor{:02d}.pytorch'.format(d)).cuda(1)\n",
    "    optimizer = torch.optim.RMSprop(predictor.parameters(), lr=2e-5)\n",
    "    optimizer_scheduler = torch.optim.lr_scheduler.ExponentialLR(optimizer, gamma=0.5)\n",
    "\n",
    "    for epoch in range(1, 3):\n",
    "        avg_loss = 0.0\n",
    "\n",
    "        for i in range(1, 1 + max_iter):\n",
    "\n",
    "            t = np.random.randint(num_timeslots - 2 * dT + 1)\n",
    "\n",
    "            time_indices = [t, t + 5, t + 8, t + 10, t + 11]\n",
    "\n",
    "            batch_indices = torch.LongTensor(np.random.choice(data.shape[0], batch_size, replace=False))        \n",
    "            xc = data[batch_indices][:, time_indices].cuda(1)\n",
    "            xt = torch.zeros_like(xc) + torch.LongTensor(time_indices).cuda(1)\n",
    "            yc = data[batch_indices, t + 2 * dT - 1].cuda(1)\n",
    "\n",
    "            loss = predictor(xc, xt, yc)        \n",
    "            loss.backward()\n",
    "\n",
    "            optimizer.step()\n",
    "            optimizer.zero_grad()\n",
    "\n",
    "            avg_loss += loss.item()\n",
    "\n",
    "            print('Epoch {:03d}, {:.1f}%, avg_loss = {:.4f}'.format(epoch, i / max_iter * 100, avg_loss / i), end='\\r')\n",
    "\n",
    "        print()\n",
    "        optimizer_scheduler.step()\n",
    "    torch.save(predictor.cpu(), './trained_model/component_predictors/component_predictor{:02d}.pytorch'.format(d))"
   ]
  },
  {
   "cell_type": "code",
   "execution_count": null,
   "metadata": {},
   "outputs": [],
   "source": []
  }
 ],
 "metadata": {
  "kernelspec": {
   "display_name": "Py3 (Conda)",
   "language": "python",
   "name": "py3"
  },
  "language_info": {
   "codemirror_mode": {
    "name": "ipython",
    "version": 3
   },
   "file_extension": ".py",
   "mimetype": "text/x-python",
   "name": "python",
   "nbconvert_exporter": "python",
   "pygments_lexer": "ipython3",
   "version": "3.7.4"
  }
 },
 "nbformat": 4,
 "nbformat_minor": 2
}
