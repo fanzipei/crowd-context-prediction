{
 "cells": [
  {
   "cell_type": "code",
   "execution_count": 1,
   "metadata": {},
   "outputs": [],
   "source": [
    "import torch\n",
    "import torch.nn as nn\n",
    "\n",
    "from model import EnsemblePredictor\n",
    "import pickle as pk\n",
    "\n",
    "import os\n",
    "\n",
    "from config import ensemble_components_folder_path, didi_hidx_traj_path\n",
    "from config import num_clusters, ensemble_cluster_embedding\n",
    "from config import num_timeslots, dT"
   ]
  },
  {
   "cell_type": "code",
   "execution_count": 18,
   "metadata": {},
   "outputs": [],
   "source": [
    "predictors = [torch.load(f'{ensemble_components_folder_path}ensemble_gru_day_{d:02d}.pytorch').cuda(1) for d in range(1, 15)]"
   ]
  },
  {
   "cell_type": "code",
   "execution_count": 21,
   "metadata": {},
   "outputs": [],
   "source": [
    "ensemble_predictor = EnsemblePredictor(num_clusters, ensemble_cluster_embedding, 14).cuda(1)\n",
    "\n",
    "optimizer = torch.optim.SGD(ensemble_predictor.parameters(), lr=1e-2)"
   ]
  },
  {
   "cell_type": "code",
   "execution_count": 22,
   "metadata": {},
   "outputs": [
    {
     "name": "stdout",
     "output_type": "stream",
     "text": [
      "Day 30 Time 213, avg_loss=0.5830\r"
     ]
    }
   ],
   "source": [
    "T = num_timeslots\n",
    "\n",
    "batch_size = 512\n",
    "\n",
    "m = 11\n",
    "n = 0\n",
    "avg_loss = 0.0\n",
    "\n",
    "for d in range(15, 31):\n",
    "\n",
    "    filename = os.path.join(didi_hidx_traj_path, f'hidx_traj_2012{m:02d}{d:02d}.pk')\n",
    "    with open(filename, 'rb') as f:\n",
    "        data = torch.stack(list(pk.load(f).values())).cuda(1)\n",
    "\n",
    "    for t in range(0, T - 2 * dT, 3):\n",
    "        \n",
    "        data = data[torch.randperm(data.shape[0]).cuda(1)]\n",
    "\n",
    "        if t >= dT:\n",
    "            optimizer.zero_grad()\n",
    "            for j in range(1, 4):\n",
    "                for i in range(0, data.shape[0], batch_size):\n",
    "                    xc = data[i: i + batch_size, t - dT: t]\n",
    "                    xt = torch.zeros_like(xc) + t\n",
    "                    y = data[i: i + batch_size, t + dT - 1]\n",
    "                    with torch.no_grad():\n",
    "                        preds = torch.stack([predictor(xc, xt) for predictor in predictors])\n",
    "                    ensemble_pred = ensemble_predictor(xc[:, -1], preds) \n",
    "                    loss = nn.functional.cross_entropy(ensemble_pred, y)\n",
    "                    loss.backward()\n",
    "                    optimizer.step()\n",
    "                    optimizer.zero_grad()\n",
    "\n",
    "        for i in range(0, data.shape[0], batch_size):\n",
    "            xc = data[i: i + batch_size, t: t + dT]\n",
    "            xt = torch.zeros_like(xc) + t\n",
    "            yc = data[i: i + batch_size, t + 2 * dT - 1]\n",
    "\n",
    "            with torch.no_grad():\n",
    "                preds = torch.stack([predictor(xc, xt) for predictor in predictors])\n",
    "                loss = nn.functional.cross_entropy(ensemble_predictor(xc[:, -1], preds), yc)\n",
    "                avg_loss += loss.item() * xc.shape[0]\n",
    "                n += xc.shape[0]\n",
    "            \n",
    "            print(f'Day {d:02d} Time {t:02d}, avg_loss={avg_loss / n:.4f}', end='\\r')"
   ]
  },
  {
   "cell_type": "code",
   "execution_count": null,
   "metadata": {},
   "outputs": [],
   "source": []
  }
 ],
 "metadata": {
  "kernelspec": {
   "display_name": "Py3 (Conda)",
   "language": "python",
   "name": "py3"
  },
  "language_info": {
   "codemirror_mode": {
    "name": "ipython",
    "version": 3
   },
   "file_extension": ".py",
   "mimetype": "text/x-python",
   "name": "python",
   "nbconvert_exporter": "python",
   "pygments_lexer": "ipython3",
   "version": "3.7.4"
  }
 },
 "nbformat": 4,
 "nbformat_minor": 2
}
