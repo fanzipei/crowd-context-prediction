{
 "cells": [
  {
   "cell_type": "code",
   "execution_count": 1,
   "metadata": {},
   "outputs": [],
   "source": [
    "import torch\n",
    "import torch.nn as nn\n",
    "\n",
    "from model import GRUPredictorCondition\n",
    "\n",
    "import numpy as np\n",
    "\n",
    "import pickle as pk\n",
    "\n",
    "import os\n",
    "from multiprocessing import pool\n",
    "\n",
    "from config import didi_hidx_traj_path, num_clusters, num_timeslots, time_embedding, cluster_embedding, hidden_dim, context_dim, dT, conditional_predictor_model_path"
   ]
  },
  {
   "cell_type": "code",
   "execution_count": 2,
   "metadata": {},
   "outputs": [],
   "source": [
    "crowd_predictor = GRUPredictorCondition(num_timeslots, time_embedding, num_clusters, cluster_embedding, hidden_dim, n_layers=2)\n",
    "crowd_predictor.load_state_dict(torch.load(conditional_predictor_model_path).state_dict())\n",
    "crowd_predictor = crowd_predictor.cuda(0)"
   ]
  },
  {
   "cell_type": "code",
   "execution_count": 3,
   "metadata": {
    "scrolled": true
   },
   "outputs": [
    {
     "name": "stdout",
     "output_type": "stream",
     "text": [
      "/data/fan/didi/processed/hidx_traj/hidx_traj_20121115.pk\n",
      "/data/fan/didi/processed/hidx_traj/hidx_traj_20121116.pk\n",
      "/data/fan/didi/processed/hidx_traj/hidx_traj_20121117.pk\n",
      "/data/fan/didi/processed/hidx_traj/hidx_traj_20121118.pk\n",
      "/data/fan/didi/processed/hidx_traj/hidx_traj_20121119.pk\n",
      "/data/fan/didi/processed/hidx_traj/hidx_traj_20121120.pk\n",
      "/data/fan/didi/processed/hidx_traj/hidx_traj_20121121.pk\n",
      "/data/fan/didi/processed/hidx_traj/hidx_traj_20121122.pk\n",
      "/data/fan/didi/processed/hidx_traj/hidx_traj_20121123.pk\n",
      "/data/fan/didi/processed/hidx_traj/hidx_traj_20121124.pk\n",
      "/data/fan/didi/processed/hidx_traj/hidx_traj_20121125.pk\n",
      "/data/fan/didi/processed/hidx_traj/hidx_traj_20121126.pk\n",
      "/data/fan/didi/processed/hidx_traj/hidx_traj_20121127.pk\n",
      "/data/fan/didi/processed/hidx_traj/hidx_traj_20121128.pk\n",
      "/data/fan/didi/processed/hidx_traj/hidx_traj_20121129.pk\n",
      "/data/fan/didi/processed/hidx_traj/hidx_traj_20121130.pk\n"
     ]
    }
   ],
   "source": [
    "def load_cluster_data(filepath):\n",
    "    print(filepath)\n",
    "    with open(filepath, 'rb') as f:\n",
    "        return torch.stack(list(pk.load(f).values()))\n",
    "\n",
    "path_list = []\n",
    "\n",
    "for m in range(10, 12):\n",
    "    for d in range(1, 32):\n",
    "        filename = os.path.join(didi_hidx_traj_path, f'hidx_traj_2012{m:02d}{d:02d}.pk')\n",
    "        if os.path.isfile(filename):\n",
    "            path_list.append(filename)\n",
    "\n",
    "path_list = path_list[45:]\n",
    "\n",
    "data = [load_cluster_data(filepath) for filepath in path_list]"
   ]
  },
  {
   "cell_type": "code",
   "execution_count": 4,
   "metadata": {},
   "outputs": [],
   "source": [
    "import random\n",
    "from itertools import product"
   ]
  },
  {
   "cell_type": "code",
   "execution_count": 6,
   "metadata": {},
   "outputs": [
    {
     "name": "stdout",
     "output_type": "stream",
     "text": [
      "avg_loss = 0.5630\r"
     ]
    }
   ],
   "source": [
    "batch_size = 8192\n",
    "max_iter = 100000\n",
    "\n",
    "day_time_list = list(product(range(len(data)), range(num_timeslots - 2 * dT + 1)))\n",
    "\n",
    "holidays = set([0, 1, 2, 3, 4, 5, 6, 14, 15, 21, 22, 28, 29, 35, 36, 42, 43, 49, 50, 56, 57])\n",
    "\n",
    "avg_loss = 0.0\n",
    "\n",
    "n = 0\n",
    "with torch.no_grad():\n",
    "    for d, t in day_time_list:\n",
    "\n",
    "        for j in range(0, data[d].shape[0], batch_size):\n",
    "            xc = data[d][j: j + batch_size, t: t + dT].cuda(0)\n",
    "            xt = torch.zeros_like(xc) + t\n",
    "            xd = torch.zeros_like(xt) + (1 if d in holidays else 0)\n",
    "            yc = data[d][j: j + batch_size, t + 2 * dT - 1].cuda(0)\n",
    "\n",
    "            crowd_pred = crowd_predictor(xc, xt, xd)\n",
    "            loss = nn.functional.cross_entropy(crowd_pred, yc)\n",
    "\n",
    "            avg_loss += loss.item() * yc.shape[0]\n",
    "            n += yc.shape[0]\n",
    "\n",
    "            print('avg_loss = {:.4f}'.format(avg_loss / n), end='\\r')"
   ]
  },
  {
   "cell_type": "code",
   "execution_count": null,
   "metadata": {},
   "outputs": [],
   "source": []
  }
 ],
 "metadata": {
  "kernelspec": {
   "display_name": "Py3 (Conda)",
   "language": "python",
   "name": "py3"
  },
  "language_info": {
   "codemirror_mode": {
    "name": "ipython",
    "version": 3
   },
   "file_extension": ".py",
   "mimetype": "text/x-python",
   "name": "python",
   "nbconvert_exporter": "python",
   "pygments_lexer": "ipython3",
   "version": "3.7.4"
  }
 },
 "nbformat": 4,
 "nbformat_minor": 2
}
