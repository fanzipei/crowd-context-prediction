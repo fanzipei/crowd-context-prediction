{
 "cells": [
  {
   "cell_type": "code",
   "execution_count": 7,
   "metadata": {},
   "outputs": [],
   "source": [
    "import pandas as pd\n",
    "import pickle as pk\n",
    "import numpy as np\n",
    "import torch\n",
    "\n",
    "import os\n",
    "\n",
    "from config import didi_data_path, didi_traj_dict_path, didi_interp_traj_path, didi_hash_traj_path, hash_dict_path, didi_hidx_traj_path"
   ]
  },
  {
   "cell_type": "markdown",
   "metadata": {},
   "source": [
    "# Process Raw data to Trajectory Dictionary"
   ]
  },
  {
   "cell_type": "code",
   "execution_count": null,
   "metadata": {
    "scrolled": true
   },
   "outputs": [],
   "source": [
    "for m in [('oct', 10), ('nov', 11)]:\n",
    "    for d in range(1, 32):\n",
    "        filename = os.path.join(didi_data_path, f'didi_data_2016_{m[0]}_{d:02d}.tar.gz')\n",
    "        if os.path.isfile(filename):\n",
    "            print(filename)\n",
    "            df = pd.read_csv(filename, compression='gzip', error_bad_lines=False, skiprows=1, header=None).dropna()\n",
    "            df[5] = (pd.to_datetime(df[2], unit='s') + pd.Timedelta('8h') - pd.to_datetime(f'2016-{m[1]:02d}-{d:02d}')) / pd.Timedelta('1s')\n",
    "            traj_dict = {oid: df_trip[[5, 4, 3]].values.tolist() for oid, df_trip in df.groupby(1)}\n",
    "\n",
    "            filename = os.path.join(didi_traj_dict_path, f'traj_dict_2016{m[1]:02d}{d:02d}.pk')\n",
    "            with open(filename, 'wb') as f:\n",
    "                pk.dump(traj_dict, f)"
   ]
  },
  {
   "cell_type": "markdown",
   "metadata": {},
   "source": [
    "# Crop Target Time Range from Trajectory Dictionary"
   ]
  },
  {
   "cell_type": "code",
   "execution_count": 7,
   "metadata": {},
   "outputs": [],
   "source": [
    "if not os.path.isdir(didi_traj_dict_path):\n",
    "    os.mkdir(didi_traj_dict_path)\n",
    "    print('Create Folder ', didi_traj_dict_path)"
   ]
  },
  {
   "cell_type": "code",
   "execution_count": null,
   "metadata": {},
   "outputs": [],
   "source": [
    "for m in [10, 11]:\n",
    "    for d in range(1, 32):\n",
    "        filename = os.path.join(didi_traj_dict_path, f'traj_dict_2016{m:02d}{d:02d}.pk')\n",
    "        if os.path.isfile(filename):\n",
    "            print(filename)\n",
    "            with open(filename, 'rb') as f:\n",
    "                data = pk.load(f)\n",
    "\n",
    "            data_cropped = {}\n",
    "            for uid in data:\n",
    "                traj = list(filter(lambda x: 7 * 3600 < x[0] <= 11 * 3600, data[uid]))\n",
    "                if len(traj) > 0:\n",
    "                    data_cropped[uid] = traj\n",
    "\n",
    "            filename = os.path.join(didi_traj_dict_path, f'traj_dict_0700-1100_2016{m:02d}{d:02d}.pk')\n",
    "            with open(filename, 'wb') as f:\n",
    "                pk.dump(data_cropped, f)"
   ]
  },
  {
   "cell_type": "markdown",
   "metadata": {},
   "source": [
    "# Interpolate Trajectory Dictionary to Constant Sampling Trajectory"
   ]
  },
  {
   "cell_type": "code",
   "execution_count": 8,
   "metadata": {
    "scrolled": false
   },
   "outputs": [],
   "source": [
    "if not os.path.isdir(didi_interp_traj_path):\n",
    "    os.mkdir(didi_interp_traj_path)\n",
    "    print('Create Folder ', didi_interp_traj_path)"
   ]
  },
  {
   "cell_type": "code",
   "execution_count": 9,
   "metadata": {},
   "outputs": [
    {
     "name": "stdout",
     "output_type": "stream",
     "text": [
      "/data/fan/didi/processed/traj_dict/traj_dict_0700-1100_20161001.pk\n",
      "/data/fan/didi/processed/traj_dict/traj_dict_0700-1100_20161002.pk\n",
      "/data/fan/didi/processed/traj_dict/traj_dict_0700-1100_20161003.pk\n",
      "/data/fan/didi/processed/traj_dict/traj_dict_0700-1100_20161004.pk\n",
      "/data/fan/didi/processed/traj_dict/traj_dict_0700-1100_20161005.pk\n",
      "/data/fan/didi/processed/traj_dict/traj_dict_0700-1100_20161006.pk\n",
      "/data/fan/didi/processed/traj_dict/traj_dict_0700-1100_20161007.pk\n",
      "/data/fan/didi/processed/traj_dict/traj_dict_0700-1100_20161008.pk\n",
      "/data/fan/didi/processed/traj_dict/traj_dict_0700-1100_20161009.pk\n",
      "/data/fan/didi/processed/traj_dict/traj_dict_0700-1100_20161010.pk\n",
      "/data/fan/didi/processed/traj_dict/traj_dict_0700-1100_20161011.pk\n",
      "/data/fan/didi/processed/traj_dict/traj_dict_0700-1100_20161012.pk\n",
      "/data/fan/didi/processed/traj_dict/traj_dict_0700-1100_20161013.pk\n",
      "/data/fan/didi/processed/traj_dict/traj_dict_0700-1100_20161014.pk\n",
      "/data/fan/didi/processed/traj_dict/traj_dict_0700-1100_20161015.pk\n",
      "/data/fan/didi/processed/traj_dict/traj_dict_0700-1100_20161016.pk\n",
      "/data/fan/didi/processed/traj_dict/traj_dict_0700-1100_20161017.pk\n",
      "/data/fan/didi/processed/traj_dict/traj_dict_0700-1100_20161018.pk\n",
      "/data/fan/didi/processed/traj_dict/traj_dict_0700-1100_20161019.pk\n",
      "/data/fan/didi/processed/traj_dict/traj_dict_0700-1100_20161020.pk\n",
      "/data/fan/didi/processed/traj_dict/traj_dict_0700-1100_20161021.pk\n",
      "/data/fan/didi/processed/traj_dict/traj_dict_0700-1100_20161022.pk\n",
      "/data/fan/didi/processed/traj_dict/traj_dict_0700-1100_20161023.pk\n",
      "/data/fan/didi/processed/traj_dict/traj_dict_0700-1100_20161024.pk\n",
      "/data/fan/didi/processed/traj_dict/traj_dict_0700-1100_20161025.pk\n",
      "/data/fan/didi/processed/traj_dict/traj_dict_0700-1100_20161026.pk\n",
      "/data/fan/didi/processed/traj_dict/traj_dict_0700-1100_20161027.pk\n",
      "/data/fan/didi/processed/traj_dict/traj_dict_0700-1100_20161028.pk\n",
      "/data/fan/didi/processed/traj_dict/traj_dict_0700-1100_20161029.pk\n",
      "/data/fan/didi/processed/traj_dict/traj_dict_0700-1100_20161030.pk\n",
      "/data/fan/didi/processed/traj_dict/traj_dict_0700-1100_20161031.pk\n",
      "/data/fan/didi/processed/traj_dict/traj_dict_0700-1100_20161101.pk\n",
      "/data/fan/didi/processed/traj_dict/traj_dict_0700-1100_20161102.pk\n",
      "/data/fan/didi/processed/traj_dict/traj_dict_0700-1100_20161103.pk\n",
      "/data/fan/didi/processed/traj_dict/traj_dict_0700-1100_20161104.pk\n",
      "/data/fan/didi/processed/traj_dict/traj_dict_0700-1100_20161105.pk\n",
      "/data/fan/didi/processed/traj_dict/traj_dict_0700-1100_20161106.pk\n",
      "/data/fan/didi/processed/traj_dict/traj_dict_0700-1100_20161107.pk\n",
      "/data/fan/didi/processed/traj_dict/traj_dict_0700-1100_20161108.pk\n",
      "/data/fan/didi/processed/traj_dict/traj_dict_0700-1100_20161109.pk\n",
      "/data/fan/didi/processed/traj_dict/traj_dict_0700-1100_20161110.pk\n",
      "/data/fan/didi/processed/traj_dict/traj_dict_0700-1100_20161111.pk\n",
      "/data/fan/didi/processed/traj_dict/traj_dict_0700-1100_20161112.pk\n",
      "/data/fan/didi/processed/traj_dict/traj_dict_0700-1100_20161113.pk\n",
      "/data/fan/didi/processed/traj_dict/traj_dict_0700-1100_20161114.pk\n",
      "/data/fan/didi/processed/traj_dict/traj_dict_0700-1100_20161115.pk\n",
      "/data/fan/didi/processed/traj_dict/traj_dict_0700-1100_20161116.pk\n",
      "/data/fan/didi/processed/traj_dict/traj_dict_0700-1100_20161117.pk\n",
      "/data/fan/didi/processed/traj_dict/traj_dict_0700-1100_20161118.pk\n",
      "/data/fan/didi/processed/traj_dict/traj_dict_0700-1100_20161119.pk\n",
      "/data/fan/didi/processed/traj_dict/traj_dict_0700-1100_20161120.pk\n",
      "/data/fan/didi/processed/traj_dict/traj_dict_0700-1100_20161121.pk\n",
      "/data/fan/didi/processed/traj_dict/traj_dict_0700-1100_20161122.pk\n",
      "/data/fan/didi/processed/traj_dict/traj_dict_0700-1100_20161123.pk\n",
      "/data/fan/didi/processed/traj_dict/traj_dict_0700-1100_20161124.pk\n",
      "/data/fan/didi/processed/traj_dict/traj_dict_0700-1100_20161125.pk\n",
      "/data/fan/didi/processed/traj_dict/traj_dict_0700-1100_20161126.pk\n",
      "/data/fan/didi/processed/traj_dict/traj_dict_0700-1100_20161127.pk\n",
      "/data/fan/didi/processed/traj_dict/traj_dict_0700-1100_20161128.pk\n",
      "/data/fan/didi/processed/traj_dict/traj_dict_0700-1100_20161129.pk\n",
      "/data/fan/didi/processed/traj_dict/traj_dict_0700-1100_20161130.pk\n"
     ]
    }
   ],
   "source": [
    "dT = 60\n",
    "T = 240\n",
    "\n",
    "for m in [10, 11]:\n",
    "    for d in range(1, 32):\n",
    "        \n",
    "        filename = os.path.join(didi_traj_dict_path, f'traj_dict_0700-1100_2016{m:02d}{d:02d}.pk')\n",
    "        \n",
    "        if os.path.isfile(filename):\n",
    "            print(filename)\n",
    "\n",
    "            with open(filename, 'rb') as f:\n",
    "                user_traj = pk.load(f)\n",
    "            interp_user_traj = {}\n",
    "\n",
    "            for uid in user_traj:\n",
    "                time_vec = list(map(lambda x: max(0, min(T - 1, int(x[0] - 7 * 3600) // dT)), user_traj[uid]))\n",
    "                coordinates = list(map(lambda x: [x[1], x[2]], user_traj[uid]))\n",
    "                interp_user_traj[uid] = np.zeros((T, 2))\n",
    "                interp_user_traj[uid][:time_vec[0]] = coordinates[0]\n",
    "                for t, point in zip(time_vec, coordinates):\n",
    "                    interp_user_traj[uid][t:] = point\n",
    "                interp_user_traj[uid] = torch.FloatTensor(interp_user_traj[uid])\n",
    "\n",
    "            filename = os.path.join(didi_interp_traj_path, f'interp_traj_2012{m:02d}{d:02d}.pk')\n",
    "            with open(filename, 'wb') as f:\n",
    "                pk.dump(interp_user_traj, f)"
   ]
  },
  {
   "cell_type": "markdown",
   "metadata": {},
   "source": [
    "# Transform the Constant Sampling Trajectory into h3hash Represented Trajectory"
   ]
  },
  {
   "cell_type": "code",
   "execution_count": 10,
   "metadata": {},
   "outputs": [],
   "source": [
    "from h3 import h3"
   ]
  },
  {
   "cell_type": "code",
   "execution_count": 11,
   "metadata": {},
   "outputs": [],
   "source": [
    "if not os.path.isdir(didi_hash_traj_path):\n",
    "    os.mkdir(didi_hash_traj_path)\n",
    "    print('Create Folder ', didi_hash_traj_path)"
   ]
  },
  {
   "cell_type": "code",
   "execution_count": 12,
   "metadata": {},
   "outputs": [
    {
     "name": "stdout",
     "output_type": "stream",
     "text": [
      "/data/fan/didi/processed/interp_traj/interp_traj_20121001.pk\n",
      "/data/fan/didi/processed/interp_traj/interp_traj_20121002.pk\n",
      "/data/fan/didi/processed/interp_traj/interp_traj_20121003.pk\n",
      "/data/fan/didi/processed/interp_traj/interp_traj_20121004.pk\n",
      "/data/fan/didi/processed/interp_traj/interp_traj_20121005.pk\n",
      "/data/fan/didi/processed/interp_traj/interp_traj_20121006.pk\n",
      "/data/fan/didi/processed/interp_traj/interp_traj_20121007.pk\n",
      "/data/fan/didi/processed/interp_traj/interp_traj_20121008.pk\n",
      "/data/fan/didi/processed/interp_traj/interp_traj_20121009.pk\n",
      "/data/fan/didi/processed/interp_traj/interp_traj_20121010.pk\n",
      "/data/fan/didi/processed/interp_traj/interp_traj_20121011.pk\n",
      "/data/fan/didi/processed/interp_traj/interp_traj_20121012.pk\n",
      "/data/fan/didi/processed/interp_traj/interp_traj_20121013.pk\n",
      "/data/fan/didi/processed/interp_traj/interp_traj_20121014.pk\n",
      "/data/fan/didi/processed/interp_traj/interp_traj_20121015.pk\n",
      "/data/fan/didi/processed/interp_traj/interp_traj_20121016.pk\n",
      "/data/fan/didi/processed/interp_traj/interp_traj_20121017.pk\n",
      "/data/fan/didi/processed/interp_traj/interp_traj_20121018.pk\n",
      "/data/fan/didi/processed/interp_traj/interp_traj_20121019.pk\n",
      "/data/fan/didi/processed/interp_traj/interp_traj_20121020.pk\n",
      "/data/fan/didi/processed/interp_traj/interp_traj_20121021.pk\n",
      "/data/fan/didi/processed/interp_traj/interp_traj_20121022.pk\n",
      "/data/fan/didi/processed/interp_traj/interp_traj_20121023.pk\n",
      "/data/fan/didi/processed/interp_traj/interp_traj_20121024.pk\n",
      "/data/fan/didi/processed/interp_traj/interp_traj_20121025.pk\n",
      "/data/fan/didi/processed/interp_traj/interp_traj_20121026.pk\n",
      "/data/fan/didi/processed/interp_traj/interp_traj_20121027.pk\n",
      "/data/fan/didi/processed/interp_traj/interp_traj_20121028.pk\n",
      "/data/fan/didi/processed/interp_traj/interp_traj_20121029.pk\n",
      "/data/fan/didi/processed/interp_traj/interp_traj_20121030.pk\n",
      "/data/fan/didi/processed/interp_traj/interp_traj_20121031.pk\n",
      "/data/fan/didi/processed/interp_traj/interp_traj_20121101.pk\n",
      "/data/fan/didi/processed/interp_traj/interp_traj_20121102.pk\n",
      "/data/fan/didi/processed/interp_traj/interp_traj_20121103.pk\n",
      "/data/fan/didi/processed/interp_traj/interp_traj_20121104.pk\n",
      "/data/fan/didi/processed/interp_traj/interp_traj_20121105.pk\n",
      "/data/fan/didi/processed/interp_traj/interp_traj_20121106.pk\n",
      "/data/fan/didi/processed/interp_traj/interp_traj_20121107.pk\n",
      "/data/fan/didi/processed/interp_traj/interp_traj_20121108.pk\n",
      "/data/fan/didi/processed/interp_traj/interp_traj_20121109.pk\n",
      "/data/fan/didi/processed/interp_traj/interp_traj_20121110.pk\n",
      "/data/fan/didi/processed/interp_traj/interp_traj_20121111.pk\n",
      "/data/fan/didi/processed/interp_traj/interp_traj_20121112.pk\n",
      "/data/fan/didi/processed/interp_traj/interp_traj_20121113.pk\n",
      "/data/fan/didi/processed/interp_traj/interp_traj_20121114.pk\n",
      "/data/fan/didi/processed/interp_traj/interp_traj_20121115.pk\n",
      "/data/fan/didi/processed/interp_traj/interp_traj_20121116.pk\n",
      "/data/fan/didi/processed/interp_traj/interp_traj_20121117.pk\n",
      "/data/fan/didi/processed/interp_traj/interp_traj_20121118.pk\n",
      "/data/fan/didi/processed/interp_traj/interp_traj_20121119.pk\n",
      "/data/fan/didi/processed/interp_traj/interp_traj_20121120.pk\n",
      "/data/fan/didi/processed/interp_traj/interp_traj_20121121.pk\n",
      "/data/fan/didi/processed/interp_traj/interp_traj_20121122.pk\n",
      "/data/fan/didi/processed/interp_traj/interp_traj_20121123.pk\n",
      "/data/fan/didi/processed/interp_traj/interp_traj_20121124.pk\n",
      "/data/fan/didi/processed/interp_traj/interp_traj_20121125.pk\n",
      "/data/fan/didi/processed/interp_traj/interp_traj_20121126.pk\n",
      "/data/fan/didi/processed/interp_traj/interp_traj_20121127.pk\n",
      "/data/fan/didi/processed/interp_traj/interp_traj_20121128.pk\n",
      "/data/fan/didi/processed/interp_traj/interp_traj_20121129.pk\n",
      "/data/fan/didi/processed/interp_traj/interp_traj_20121130.pk\n"
     ]
    }
   ],
   "source": [
    "hash_set = set([])\n",
    "\n",
    "for m in [10, 11]:\n",
    "    for d in range(1, 32):\n",
    "        \n",
    "        filename = os.path.join(didi_interp_traj_path, f'interp_traj_2012{m:02d}{d:02d}.pk')\n",
    "\n",
    "        if os.path.isfile(filename):\n",
    "            print(filename)\n",
    "            \n",
    "            with open(filename, 'rb') as f:\n",
    "                user_traj = pk.load(f)\n",
    "\n",
    "            user_hash_traj = {}\n",
    "            \n",
    "            for uid in user_traj:\n",
    "                user_hash_traj[uid] = [int(h3.geo_to_h3(x[0], x[1], 9), 16) for x in user_traj[uid].numpy().tolist()]\n",
    "                hash_set |= set(user_hash_traj[uid])\n",
    "                \n",
    "            filename = os.path.join(didi_hash_traj_path, f'hash_traj_2012{m:02d}{d:02d}.pk')\n",
    "            with open(filename, 'wb') as f:\n",
    "                pk.dump(user_hash_traj, f)"
   ]
  },
  {
   "cell_type": "code",
   "execution_count": 13,
   "metadata": {},
   "outputs": [],
   "source": [
    "hash_dict = {v: k for k, v in enumerate(hash_set)}\n",
    "\n",
    "hash_dict_path = didi_data_path + 'processed/hash_dict.pk'\n",
    "\n",
    "with open(hash_dict_path, 'wb') as f:\n",
    "    pk.dump(hash_dict, f)"
   ]
  },
  {
   "cell_type": "markdown",
   "metadata": {},
   "source": [
    "# Translate the h3hash to cluster ID represented Trajectory (For didi, we only use the index of hash)"
   ]
  },
  {
   "cell_type": "code",
   "execution_count": 14,
   "metadata": {},
   "outputs": [],
   "source": [
    "didi_hidx_traj_path = didi_data_path + 'processed/hidx_traj/'\n",
    "\n",
    "if not os.path.isdir(didi_hidx_traj_path):\n",
    "    os.mkdir(didi_hidx_traj_path)\n",
    "    print('Create Folder ', didi_hidx_traj_path)"
   ]
  },
  {
   "cell_type": "code",
   "execution_count": 15,
   "metadata": {},
   "outputs": [
    {
     "name": "stdout",
     "output_type": "stream",
     "text": [
      "/data/fan/didi/processed/hash_traj/hash_traj_20121001.pk\n",
      "/data/fan/didi/processed/hash_traj/hash_traj_20121002.pk\n",
      "/data/fan/didi/processed/hash_traj/hash_traj_20121003.pk\n",
      "/data/fan/didi/processed/hash_traj/hash_traj_20121004.pk\n",
      "/data/fan/didi/processed/hash_traj/hash_traj_20121005.pk\n",
      "/data/fan/didi/processed/hash_traj/hash_traj_20121006.pk\n",
      "/data/fan/didi/processed/hash_traj/hash_traj_20121007.pk\n",
      "/data/fan/didi/processed/hash_traj/hash_traj_20121008.pk\n",
      "/data/fan/didi/processed/hash_traj/hash_traj_20121009.pk\n",
      "/data/fan/didi/processed/hash_traj/hash_traj_20121010.pk\n",
      "/data/fan/didi/processed/hash_traj/hash_traj_20121011.pk\n",
      "/data/fan/didi/processed/hash_traj/hash_traj_20121012.pk\n",
      "/data/fan/didi/processed/hash_traj/hash_traj_20121013.pk\n",
      "/data/fan/didi/processed/hash_traj/hash_traj_20121014.pk\n",
      "/data/fan/didi/processed/hash_traj/hash_traj_20121015.pk\n",
      "/data/fan/didi/processed/hash_traj/hash_traj_20121016.pk\n",
      "/data/fan/didi/processed/hash_traj/hash_traj_20121017.pk\n",
      "/data/fan/didi/processed/hash_traj/hash_traj_20121018.pk\n",
      "/data/fan/didi/processed/hash_traj/hash_traj_20121019.pk\n",
      "/data/fan/didi/processed/hash_traj/hash_traj_20121020.pk\n",
      "/data/fan/didi/processed/hash_traj/hash_traj_20121021.pk\n",
      "/data/fan/didi/processed/hash_traj/hash_traj_20121022.pk\n",
      "/data/fan/didi/processed/hash_traj/hash_traj_20121023.pk\n",
      "/data/fan/didi/processed/hash_traj/hash_traj_20121024.pk\n",
      "/data/fan/didi/processed/hash_traj/hash_traj_20121025.pk\n",
      "/data/fan/didi/processed/hash_traj/hash_traj_20121026.pk\n",
      "/data/fan/didi/processed/hash_traj/hash_traj_20121027.pk\n",
      "/data/fan/didi/processed/hash_traj/hash_traj_20121028.pk\n",
      "/data/fan/didi/processed/hash_traj/hash_traj_20121029.pk\n",
      "/data/fan/didi/processed/hash_traj/hash_traj_20121030.pk\n",
      "/data/fan/didi/processed/hash_traj/hash_traj_20121031.pk\n",
      "/data/fan/didi/processed/hash_traj/hash_traj_20121101.pk\n",
      "/data/fan/didi/processed/hash_traj/hash_traj_20121102.pk\n",
      "/data/fan/didi/processed/hash_traj/hash_traj_20121103.pk\n",
      "/data/fan/didi/processed/hash_traj/hash_traj_20121104.pk\n",
      "/data/fan/didi/processed/hash_traj/hash_traj_20121105.pk\n",
      "/data/fan/didi/processed/hash_traj/hash_traj_20121106.pk\n",
      "/data/fan/didi/processed/hash_traj/hash_traj_20121107.pk\n",
      "/data/fan/didi/processed/hash_traj/hash_traj_20121108.pk\n",
      "/data/fan/didi/processed/hash_traj/hash_traj_20121109.pk\n",
      "/data/fan/didi/processed/hash_traj/hash_traj_20121110.pk\n",
      "/data/fan/didi/processed/hash_traj/hash_traj_20121111.pk\n",
      "/data/fan/didi/processed/hash_traj/hash_traj_20121112.pk\n",
      "/data/fan/didi/processed/hash_traj/hash_traj_20121113.pk\n",
      "/data/fan/didi/processed/hash_traj/hash_traj_20121114.pk\n",
      "/data/fan/didi/processed/hash_traj/hash_traj_20121115.pk\n",
      "/data/fan/didi/processed/hash_traj/hash_traj_20121116.pk\n",
      "/data/fan/didi/processed/hash_traj/hash_traj_20121117.pk\n",
      "/data/fan/didi/processed/hash_traj/hash_traj_20121118.pk\n",
      "/data/fan/didi/processed/hash_traj/hash_traj_20121119.pk\n",
      "/data/fan/didi/processed/hash_traj/hash_traj_20121120.pk\n",
      "/data/fan/didi/processed/hash_traj/hash_traj_20121121.pk\n",
      "/data/fan/didi/processed/hash_traj/hash_traj_20121122.pk\n",
      "/data/fan/didi/processed/hash_traj/hash_traj_20121123.pk\n",
      "/data/fan/didi/processed/hash_traj/hash_traj_20121124.pk\n",
      "/data/fan/didi/processed/hash_traj/hash_traj_20121125.pk\n",
      "/data/fan/didi/processed/hash_traj/hash_traj_20121126.pk\n",
      "/data/fan/didi/processed/hash_traj/hash_traj_20121127.pk\n",
      "/data/fan/didi/processed/hash_traj/hash_traj_20121128.pk\n",
      "/data/fan/didi/processed/hash_traj/hash_traj_20121129.pk\n",
      "/data/fan/didi/processed/hash_traj/hash_traj_20121130.pk\n"
     ]
    }
   ],
   "source": [
    "with open(hash_dict_path, 'rb') as f:\n",
    "    hash_dict = pk.load(f)\n",
    "\n",
    "for m in [10, 11]:\n",
    "    for d in range(1, 32):\n",
    "        \n",
    "        filename = os.path.join(didi_hash_traj_path, f'hash_traj_2012{m:02d}{d:02d}.pk')\n",
    "\n",
    "        if os.path.isfile(filename):\n",
    "            print(filename)\n",
    "            \n",
    "            with open(filename, 'rb') as f:\n",
    "                user_traj = pk.load(f)\n",
    "\n",
    "            user_hidx_traj = {}\n",
    "            \n",
    "            for uid in user_traj:\n",
    "                user_hidx_traj[uid] = torch.LongTensor(list(map(lambda x: hash_dict[x], user_traj[uid])))\n",
    "                \n",
    "            filename = os.path.join(didi_hidx_traj_path, f'hidx_traj_2012{m:02d}{d:02d}.pk')\n",
    "            with open(filename, 'wb') as f:\n",
    "                pk.dump(user_hidx_traj, f)"
   ]
  },
  {
   "cell_type": "code",
   "execution_count": null,
   "metadata": {},
   "outputs": [],
   "source": []
  }
 ],
 "metadata": {
  "kernelspec": {
   "display_name": "Conda (GNN)",
   "language": "python",
   "name": "gnn"
  },
  "language_info": {
   "codemirror_mode": {
    "name": "ipython",
    "version": 3
   },
   "file_extension": ".py",
   "mimetype": "text/x-python",
   "name": "python",
   "nbconvert_exporter": "python",
   "pygments_lexer": "ipython3",
   "version": "3.7.7"
  }
 },
 "nbformat": 4,
 "nbformat_minor": 2
}
