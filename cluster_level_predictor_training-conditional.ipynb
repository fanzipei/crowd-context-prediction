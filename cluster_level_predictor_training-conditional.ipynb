{
 "cells": [
  {
   "cell_type": "markdown",
   "metadata": {},
   "source": [
    "In this Notebook, we give the example of training the conditional cluster-level predictor that is introduced as baseline (condition) in the paper."
   ]
  },
  {
   "cell_type": "code",
   "execution_count": null,
   "metadata": {},
   "outputs": [],
   "source": [
    "import torch\n",
    "import torch.nn as nn\n",
    "\n",
    "from model import GRUPredictorCondition\n",
    "\n",
    "import numpy as np\n",
    "\n",
    "import pickle as pk\n",
    "\n",
    "import os\n",
    "from multiprocessing import pool\n",
    "\n",
    "from config import didi_hidx_traj_path, num_clusters, num_timeslots, time_embedding, cluster_embedding, hidden_dim, context_dim, dT, conditional_predictor_model_path"
   ]
  },
  {
   "cell_type": "code",
   "execution_count": null,
   "metadata": {},
   "outputs": [],
   "source": [
    "import pickle as pk"
   ]
  },
  {
   "cell_type": "code",
   "execution_count": null,
   "metadata": {},
   "outputs": [],
   "source": [
    "predictor = GRUPredictorCondition(num_timeslots, time_embedding, num_clusters, cluster_embedding, hidden_dim, n_layers=2).cuda(0)"
   ]
  },
  {
   "cell_type": "code",
   "execution_count": null,
   "metadata": {
    "scrolled": true
   },
   "outputs": [],
   "source": [
    "def load_cluster_data(filepath):\n",
    "    print(filepath)\n",
    "    with open(filepath, 'rb') as f:\n",
    "        return torch.stack(list(pk.load(f).values()))\n",
    "\n",
    "path_list = []\n",
    "\n",
    "for m in range(10, 12):\n",
    "    for d in range(1, 32):\n",
    "        filename = os.path.join(didi_hidx_traj_path, f'hidx_traj_2012{m:02d}{d:02d}.pk')\n",
    "        if os.path.isfile(filename):\n",
    "            path_list.append(filename)\n",
    "\n",
    "path_list = path_list[:45]\n",
    "\n",
    "data = [load_cluster_data(filepath) for filepath in path_list]"
   ]
  },
  {
   "cell_type": "code",
   "execution_count": null,
   "metadata": {},
   "outputs": [],
   "source": [
    "optimizer = torch.optim.Adam(predictor.parameters(), lr=1e-3)\n",
    "optimizer_scheduler = torch.optim.lr_scheduler.ExponentialLR(optimizer, gamma=0.5)"
   ]
  },
  {
   "cell_type": "code",
   "execution_count": null,
   "metadata": {},
   "outputs": [],
   "source": [
    "import random\n",
    "from itertools import product"
   ]
  },
  {
   "cell_type": "code",
   "execution_count": null,
   "metadata": {},
   "outputs": [],
   "source": [
    "batch_size = 8192\n",
    "\n",
    "day_time_list = list(product(range(len(data)), range(num_timeslots - 2 * dT + 1)))\n",
    "\n",
    "holidays = set([0, 1, 2, 3, 4, 5, 6, 14, 15, 21, 22, 28, 29, 35, 36, 42, 43, 49, 50, 56, 57])\n",
    "\n",
    "for epoch in range(1, 11):\n",
    "    avg_loss = 0.0\n",
    "    random.shuffle(day_time_list)\n",
    "\n",
    "    i = 0\n",
    "    for d, t in day_time_list:\n",
    "\n",
    "        i += 1\n",
    "        batch_indices = torch.LongTensor(np.random.choice(data[d].shape[0], batch_size, replace=False))        \n",
    "        xc = data[d][batch_indices][:, t: t + dT].cuda(0)\n",
    "        xt = torch.zeros_like(xc) + t\n",
    "        xd = torch.zeros_like(xt) + (1 if d in holidays else 0)\n",
    "        yc = data[d][batch_indices, t + 2 * dT - 1].cuda(0)\n",
    "        \n",
    "        pred = predictor(xc, xt, xd)\n",
    "        loss = nn.functional.cross_entropy(pred, yc)\n",
    "        \n",
    "        loss.backward()\n",
    "        \n",
    "        if i % 5 == 0:\n",
    "            optimizer.step()\n",
    "            optimizer.zero_grad()\n",
    "\n",
    "        avg_loss += loss.item()\n",
    "        \n",
    "        print('Epoch {:03d}, {:.1f}%, avg_loss = {:.4f}'.format(epoch, i / len(day_time_list) * 100, avg_loss / i), end='\\r')\n",
    "        \n",
    "    print()\n",
    "    optimizer_scheduler.step()"
   ]
  },
  {
   "cell_type": "code",
   "execution_count": null,
   "metadata": {},
   "outputs": [],
   "source": [
    "torch.save(predictor.cpu(), conditional_predictor_model_path)"
   ]
  },
  {
   "cell_type": "code",
   "execution_count": null,
   "metadata": {},
   "outputs": [],
   "source": []
  }
 ],
 "metadata": {
  "kernelspec": {
   "display_name": "Py3 (Conda)",
   "language": "python",
   "name": "py3"
  },
  "language_info": {
   "codemirror_mode": {
    "name": "ipython",
    "version": 3
   },
   "file_extension": ".py",
   "mimetype": "text/x-python",
   "name": "python",
   "nbconvert_exporter": "python",
   "pygments_lexer": "ipython3",
   "version": "3.7.4"
  }
 },
 "nbformat": 4,
 "nbformat_minor": 2
}
